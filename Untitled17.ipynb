{
  "nbformat": 4,
  "nbformat_minor": 0,
  "metadata": {
    "colab": {
      "provenance": [],
      "authorship_tag": "ABX9TyNhN7PmUC/1aeMBI9e0d500",
      "include_colab_link": true
    },
    "kernelspec": {
      "name": "python3",
      "display_name": "Python 3"
    },
    "language_info": {
      "name": "python"
    }
  },
  "cells": [
    {
      "cell_type": "markdown",
      "metadata": {
        "id": "view-in-github",
        "colab_type": "text"
      },
      "source": [
        "<a href=\"https://colab.research.google.com/github/IslemAgrebi/CV-Resume-scanner-with-Python/blob/main/Untitled17.ipynb\" target=\"_parent\"><img src=\"https://colab.research.google.com/assets/colab-badge.svg\" alt=\"Open In Colab\"/></a>"
      ]
    },
    {
      "cell_type": "code",
      "execution_count": 13,
      "metadata": {
        "colab": {
          "base_uri": "https://localhost:8080/"
        },
        "id": "LwSD0W1uoOlx",
        "outputId": "681ed06d-c1c2-4227-beb3-8f9f34653100"
      },
      "outputs": [
        {
          "output_type": "stream",
          "name": "stdout",
          "text": [
            "Looking in indexes: https://pypi.org/simple, https://us-python.pkg.dev/colab-wheels/public/simple/\n",
            "Requirement already satisfied: docx2txt in /usr/local/lib/python3.8/dist-packages (0.8)\n"
          ]
        }
      ],
      "source": [
        "!pip install docx2txt \n",
        "import docx2txt \n"
      ]
    },
    {
      "cell_type": "code",
      "source": [
        "job_description = docx2txt.process('/content/job_description.docx')\n",
        "resume =docx2txt.process('/content/resume2.docx')\n"
      ],
      "metadata": {
        "id": "skJBO2iaqB36"
      },
      "execution_count": 14,
      "outputs": []
    },
    {
      "cell_type": "code",
      "source": [
        "print (resume)"
      ],
      "metadata": {
        "colab": {
          "base_uri": "https://localhost:8080/"
        },
        "id": "XVOK7Shpqsuw",
        "outputId": "d1e17f81-e7d7-439c-c8c8-07af180299cf"
      },
      "execution_count": 15,
      "outputs": [
        {
          "output_type": "stream",
          "name": "stdout",
          "text": [
            "Contact\n",
            "\n",
            "Address:\n",
            "\n",
            "177 Great Portland Street, London W5W 6PQ\n",
            "\n",
            "\n",
            "\n",
            "Phone:\n",
            "\n",
            "+44 (0)20 7666 8555 \n",
            "\n",
            "\n",
            "\n",
            "Email:\n",
            "\n",
            "christoper.m@gmail.com\n",
            "\n",
            "\n",
            "\n",
            "LinkedIn:\n",
            "\n",
            "linkedin.com/christopher.morgan\n",
            "\n",
            "Languages\n",
            "\n",
            "Spanish – C2\n",
            "\n",
            "Chinese – A1\n",
            "\n",
            "German – A2\n",
            "\n",
            "Hobbies\n",
            "\n",
            "Writing\n",
            "\n",
            "Sketching\n",
            "\n",
            "Photography\n",
            "\n",
            "Design\n",
            "\n",
            "Contact\n",
            "\n",
            "Address:\n",
            "\n",
            "177 Great Portland Street, London W5W 6PQ\n",
            "\n",
            "\n",
            "\n",
            "Phone:\n",
            "\n",
            "+44 (0)20 7666 8555 \n",
            "\n",
            "\n",
            "\n",
            "Email:\n",
            "\n",
            "christoper.m@gmail.com\n",
            "\n",
            "\n",
            "\n",
            "LinkedIn:\n",
            "\n",
            "linkedin.com/christopher.morgan\n",
            "\n",
            "Languages\n",
            "\n",
            "Spanish – C2\n",
            "\n",
            "Chinese – A1\n",
            "\n",
            "German – A2\n",
            "\n",
            "Hobbies\n",
            "\n",
            "Writing\n",
            "\n",
            "Sketching\n",
            "\n",
            "Photography\n",
            "\n",
            "Design\n",
            "\n",
            "Summary\n",
            "\n",
            "Senior Web Developer specializing in front end development. Experienced with all stages of the development cycle for dynamic web projects. Well-versed in numerous programming languages including HTML5, PHP OOP, JavaScript, CSS, MySQL. Strong background in project management and customer relations.\n",
            "\n",
            "Skill Highlights\n",
            "\n",
            "Project management\n",
            "\n",
            "Strong decision maker\n",
            "\n",
            "Complex problem solver\n",
            "\n",
            "Creative design\n",
            "\n",
            "Innovative\n",
            "\n",
            "Service-focused\n",
            "\n",
            "Experience\n",
            "\n",
            "Web Developer - 09/2015 to 05/2019\n",
            "\n",
            "Luna Web Design, New York\n",
            "\n",
            "Cooperate with designers to create clean interfaces and simple, intuitive interactions and experiences.\n",
            "\n",
            "Develop project concepts and maintain optimal workflow.\n",
            "\n",
            "Work with senior developer to manage large, complex design projects for corporate clients.\n",
            "\n",
            "Complete detailed programming and development tasks for front end public and internal websites as well as challenging back-end server code.\n",
            "\n",
            "Carry out quality assurance tests to discover errors and optimize usability.\n",
            "\n",
            "Education\n",
            "\n",
            "Bachelor of Science: Computer Information Systems - 2014\n",
            "\n",
            "Columbia University, NY\n",
            "\n",
            "Certifications\n",
            "\n",
            "PHP Framework (certificate): Zend, Codeigniter, Symfony.\n",
            "\n",
            "Programming Languages: JavaScript, HTML5, PHP OOP, CSS, SQL, MySQL.\n",
            "\n",
            "\n",
            "\n",
            "Summary\n",
            "\n",
            "Senior Web Developer specializing in front end development. Experienced with all stages of the development cycle for dynamic web projects. Well-versed in numerous programming languages including HTML5, PHP OOP, JavaScript, CSS, MySQL. Strong background in project management and customer relations.\n",
            "\n",
            "Skill Highlights\n",
            "\n",
            "Project management\n",
            "\n",
            "Strong decision maker\n",
            "\n",
            "Complex problem solver\n",
            "\n",
            "Creative design\n",
            "\n",
            "Innovative\n",
            "\n",
            "Service-focused\n",
            "\n",
            "Experience\n",
            "\n",
            "Web Developer - 09/2015 to 05/2019\n",
            "\n",
            "Luna Web Design, New York\n",
            "\n",
            "Cooperate with designers to create clean interfaces and simple, intuitive interactions and experiences.\n",
            "\n",
            "Develop project concepts and maintain optimal workflow.\n",
            "\n",
            "Work with senior developer to manage large, complex design projects for corporate clients.\n",
            "\n",
            "Complete detailed programming and development tasks for front end public and internal websites as well as challenging back-end server code.\n",
            "\n",
            "Carry out quality assurance tests to discover errors and optimize usability.\n",
            "\n",
            "Education\n",
            "\n",
            "Bachelor of Science: Computer Information Systems - 2014\n",
            "\n",
            "Columbia University, NY\n",
            "\n",
            "Certifications\n",
            "\n",
            "PHP Framework (certificate): Zend, Codeigniter, Symfony.\n",
            "\n",
            "Programming Languages: JavaScript, HTML5, PHP OOP, CSS, SQL, MySQL.\n",
            "\n",
            "\n",
            "\n",
            "Christopher Morgan\n",
            "\n",
            "Christopher Morgan\n"
          ]
        }
      ]
    },
    {
      "cell_type": "code",
      "source": [
        "content = [job_description , resume]"
      ],
      "metadata": {
        "id": "T0x7Sqq1q6U6"
      },
      "execution_count": 16,
      "outputs": []
    },
    {
      "cell_type": "code",
      "source": [
        "from sklearn.feature_extraction.text import CountVectorizer\n",
        "cv = CountVectorizer()\n",
        "matrix = cv.fit_transform(content)\n"
      ],
      "metadata": {
        "id": "jxaEcgXRq-TC"
      },
      "execution_count": 17,
      "outputs": []
    },
    {
      "cell_type": "code",
      "source": [
        "from sklearn.metrics.pairwise import cosine_similarity\n",
        "similarity_matrix = cosine_similarity(matrix)"
      ],
      "metadata": {
        "id": "nWUV1UFTrOsm"
      },
      "execution_count": 18,
      "outputs": []
    },
    {
      "cell_type": "code",
      "source": [
        "print(similarity_matrix)"
      ],
      "metadata": {
        "colab": {
          "base_uri": "https://localhost:8080/"
        },
        "id": "t7-Nrs1ara8G",
        "outputId": "f8742bf1-beed-441f-9049-678f6a29601c"
      },
      "execution_count": 19,
      "outputs": [
        {
          "output_type": "stream",
          "name": "stdout",
          "text": [
            "[[1.         0.25881757]\n",
            " [0.25881757 1.        ]]\n"
          ]
        }
      ]
    },
    {
      "cell_type": "code",
      "source": [
        "print ('Resume matches by : ' + str (similarity_matrix[1][0]*100 )+ '%')"
      ],
      "metadata": {
        "colab": {
          "base_uri": "https://localhost:8080/"
        },
        "id": "TXkeQXKlrlZH",
        "outputId": "269ad650-50ce-417a-8bb7-367844ca2b93"
      },
      "execution_count": 20,
      "outputs": [
        {
          "output_type": "stream",
          "name": "stdout",
          "text": [
            "Resume matches by : 25.881757246582154%\n"
          ]
        }
      ]
    }
  ]
}